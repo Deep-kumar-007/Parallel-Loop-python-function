{
 "cells": [
  {
   "cell_type": "code",
   "execution_count": 1,
   "id": "05ef1d8c",
   "metadata": {},
   "outputs": [
    {
     "name": "stdout",
     "output_type": "stream",
     "text": [
      "lw: Looping...\n",
      "lw: Looping...\n",
      "lw: Looping...\n",
      "lw: Looping...\n",
      "lw: Looping...\n"
     ]
    }
   ],
   "source": [
    "import multiprocessing\n",
    "import time\n",
    "\n",
    "\n",
    "stop_signal = multiprocessing.Value('i', 0)\n",
    "\n",
    "def lw():\n",
    "    count = 0\n",
    "    while count < 5:\n",
    "        print(\"lw: Looping...\")\n",
    "        time.sleep(1)\n",
    "        count += 1\n",
    "\n",
    "def a():\n",
    "    count = 0\n",
    "    while count < 5:\n",
    "        print(\"a: Looping...\")\n",
    "        time.sleep(1)\n",
    "        count += 1\n",
    "\n",
    "def b():\n",
    "    while True:\n",
    "        print(\"b: Infinite Looping...\")\n",
    "        time.sleep(1)\n",
    "\n",
    "if __name__ == \"__main__\":\n",
    "    process_a = multiprocessing.Process(target=a)\n",
    "    process_b = multiprocessing.Process(target=b)\n",
    "\n",
    "    process_a.start()\n",
    "    process_b.start()\n",
    "\n",
    "    lw()\n",
    "    \n",
    "    stop_signal.value = 1\n",
    "\n",
    "    process_a.join()\n",
    "    process_b.join()"
   ]
  },
  {
   "cell_type": "code",
   "execution_count": null,
   "id": "c9ecceca",
   "metadata": {},
   "outputs": [],
   "source": []
  }
 ],
 "metadata": {
  "kernelspec": {
   "display_name": "Python 3 (ipykernel)",
   "language": "python",
   "name": "python3"
  },
  "language_info": {
   "codemirror_mode": {
    "name": "ipython",
    "version": 3
   },
   "file_extension": ".py",
   "mimetype": "text/x-python",
   "name": "python",
   "nbconvert_exporter": "python",
   "pygments_lexer": "ipython3",
   "version": "3.10.9"
  }
 },
 "nbformat": 4,
 "nbformat_minor": 5
}
